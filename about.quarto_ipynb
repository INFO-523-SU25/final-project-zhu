{
  "cells": [
    {
      "cell_type": "raw",
      "metadata": {},
      "source": [
        "---\n",
        "title: About\n",
        "format: html\n",
        "editor: visual\n",
        "---"
      ],
      "id": "46f721dd"
    },
    {
      "cell_type": "markdown",
      "metadata": {},
      "source": [
        "# Project Overview\n",
        "\n",
        "This project explores the predictive modeling of short-term volatility anomalies in the Chinese equity market, with a specific focus on the stock *AtHub (603881.SH)*—a data center infrastructure company. The goal is to develop a machine learning pipeline that can detect abnormal daily price or volume movements using technical analysis (TA) indicators.\n",
        "\n",
        "We define anomalies as:\n",
        "\n",
        "- **Price spikes or crashes**: Daily returns exceeding $\\pm$5%.\n",
        "\n",
        "- **Volume surges**: Daily trading volume exceeding 2× the 30-day moving average.\n",
        "\n",
        "By engineering over 30 TA-based features (momentum, trend, volume, and volatility), we aim to identify leading patterns that consistently precede such events.\n",
        "\n",
        "---\n",
        "\n",
        "# Approach Summary\n",
        "\n",
        "- **Data Collection**: Daily OHLCV data for *AtHub* over a multi-year period.\n",
        "- **Feature Engineering**: Over 30 technical indicators computed using rolling windows.\n",
        "- **Modeling**: Supervised learning for anomaly classification (binary targets).\n",
        "- **Evaluation**: Time-aware cross-validation to preserve chronological integrity.\n",
        "- **Interpretation**: SHAP analysis to understand key feature interactions.\n",
        "\n",
        "---\n",
        "\n",
        "# Contributors\n",
        "\n",
        "This project was developed by\n",
        "\n",
        "- **Annabelle Zhu**, Project Author\n",
        "- **Dr. Greg Chism**, Professor of INFO 523."
      ],
      "id": "d8344946"
    }
  ],
  "metadata": {
    "kernelspec": {
      "name": "python3",
      "language": "python",
      "display_name": "Python 3 (ipykernel)",
      "path": "C:\\Users\\admin.DESKTOP-GJO8JEU.001\\AppData\\Local\\Programs\\Python\\Python312\\share\\jupyter\\kernels\\python3"
    }
  },
  "nbformat": 4,
  "nbformat_minor": 5
}